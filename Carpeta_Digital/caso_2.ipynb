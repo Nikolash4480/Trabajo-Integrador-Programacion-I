{
 "cells": [
  {
   "cell_type": "markdown",
   "id": "93b538a8",
   "metadata": {},
   "source": [
    "Caso 2 - Sistema de Adopciones y Seguimiento\n",
    "Objetivo: Gestionar el proceso de adopción y seguimiento post-adopción\n",
    "Algoritmos aplicados:\n",
    "Búsqueda de interpolación: Para buscar adoptantes por rango de edad o ingresos\n",
    "Ordenamiento rápido: Para generar listas de compatibilidad adopción-animal\n",
    "Búsqueda lineal con filtros múltiples: Para matching adopción basado en múltiples criterios\n",
    "Estructura de datos:"
   ]
  },
  {
   "cell_type": "code",
   "execution_count": null,
   "id": "c28dbbc4",
   "metadata": {},
   "outputs": [],
   "source": [
    "class Adoptante:\n",
    "    def _init_(self, id_adoptante, nombre, edad, ingresos, tipo_vivienda, \n",
    "                 experiencia_animales, preferencias):\n",
    "        self.id_adoptante = id_adoptante\n",
    "        self.nombre = nombre\n",
    "        self.edad = edad\n",
    "        self.ingresos = ingresos\n",
    "        self.tipo_vivienda = tipo_vivienda  # Casa, Apartamento, Finca\n",
    "        self.experiencia_animales = experiencia_animales\n",
    "        self.preferencias = preferencias  # Tamaño, edad, especie preferida\n",
    "        self.historial_adopciones = []\n",
    "\n",
    "class Adopcion:\n",
    "    def _init_(self, id_adopcion, id_animal, id_adoptante, fecha_adopcion):\n",
    "        self.id_adopcion = id_adopcion\n",
    "        self.id_animal = id_animal\n",
    "        self.id_adoptante = id_adoptante\n",
    "        self.fecha_adopcion = fecha_adopcion\n",
    "        self.seguimientos = []  # Lista de seguimientos post-adopción"
   ]
  },
  {
   "cell_type": "markdown",
   "id": "1979d12d",
   "metadata": {},
   "source": [
    "Casos de uso reales:\n",
    "Matching de compatibilidad: Algoritmo de puntuación ordenado de mayor a menor compatibilidad\n",
    "Lista de espera por tipo de animal: Cola ordenada por fecha de solicitud\n",
    "Seguimiento post-adopción: Búsqueda por fechas de seguimiento requeridas\n",
    "Estadísticas de éxito: Análisis de adopciones exitosas vs devueltas\n",
    "Métricas de matching:\n",
    "Criterios de compatibilidad (puntaje 1-10):\n",
    "- Tamaño del animal vs espacio disponible\n",
    "- Experiencia del adoptante vs necesidades del animal\n",
    "- Tiempo disponible vs requerimientos de ejercicio\n",
    "- Presupuesto vs costos estimados de mantenimiento"
   ]
  }
 ],
 "metadata": {
  "kernelspec": {
   "display_name": "Python 3",
   "language": "python",
   "name": "python3"
  },
  "language_info": {
   "name": "python",
   "version": "3.11.9"
  }
 },
 "nbformat": 4,
 "nbformat_minor": 5
}
