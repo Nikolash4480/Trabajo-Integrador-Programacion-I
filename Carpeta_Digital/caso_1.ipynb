{
 "cells": [
  {
   "cell_type": "markdown",
   "id": "31b3e809",
   "metadata": {},
   "source": [
    "Caso 1 - Sistema de Gestión para Refugio de Animales\n",
    "Algoritmos de Búsqueda y Ordenamiento Aplicados\n",
    "\n",
    "1. Gestión del Registro de Animales\n",
    "Objetivo: Administrar la información de todos los animales del refugio\n",
    "Algoritmos aplicados:\n",
    "Búsqueda binaria: Para localizar animales por ID de chip o número de registro\n",
    "Ordenamiento rápido (Quick Sort): Para organizar animales por fecha de ingreso, edad o estado de salud\n",
    "Búsqueda de interpolación: Para buscar animales por peso o edad (distribución relativamente uniforme)\n",
    "Estructura de datos:\n"
   ]
  },
  {
   "cell_type": "code",
   "execution_count": null,
   "id": "acd08881",
   "metadata": {},
   "outputs": [],
   "source": [
    "class Animal:\n",
    "    def _init_(self, id_chip, nombre, especie, raza, edad, peso, \n",
    "                 fecha_ingreso, estado_salud, adoptado=False):\n",
    "        self.id_chip = id_chip\n",
    "        self.nombre = nombre\n",
    "        self.especie = especie  # Perro, Gato, Conejo, etc.\n",
    "        self.raza = raza\n",
    "        self.edad = edad  # en meses\n",
    "        self.peso = peso  # en kg\n",
    "        self.fecha_ingreso = fecha_ingreso\n",
    "        self.estado_salud = estado_salud  # Excelente, Bueno, Regular, Crítico\n",
    "        self.adoptado = adoptado\n",
    "        self.historial_medico = []\n"
   ]
  },
  {
   "cell_type": "markdown",
   "id": "629925a1",
   "metadata": {},
   "source": [
    "Casos de uso reales:\n",
    "Búsqueda rápida de animal por chip: Búsqueda binaria O(log n) en lista ordenada por ID\n",
    "Listado de animales listos para adopción: Ordenamiento por edad, tamaño, tiempo en refugio\n",
    "Identificación de casos críticos: Búsqueda lineal por estado de salud + ordenamiento por prioridad\n",
    "Análisis de tiempo de permanencia: Ordenamiento por fecha de ingreso\n",
    "Complejidad según tamaño del refugio:\n",
    "Refugio pequeño (< 100 animales): Cualquier algoritmo es eficiente\n",
    "Refugio mediano (100-1000 animales): Quick Sort recomendado\n",
    "Refugio grande (> 1000 animales): Búsqueda binaria esencial para consultas rápidas"
   ]
  },
  {
   "cell_type": "code",
   "execution_count": null,
   "id": "6bc99c1d",
   "metadata": {},
   "outputs": [],
   "source": []
  }
 ],
 "metadata": {
  "language_info": {
   "name": "python"
  }
 },
 "nbformat": 4,
 "nbformat_minor": 5
}
